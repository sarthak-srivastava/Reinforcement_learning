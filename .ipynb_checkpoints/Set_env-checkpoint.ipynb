{
 "cells": [
  {
   "cell_type": "markdown",
   "metadata": {},
   "source": [
    "# CREATING THE ENVIRONMENT"
   ]
  },
  {
   "cell_type": "code",
   "execution_count": 1,
   "metadata": {
    "collapsed": true
   },
   "outputs": [],
   "source": [
    "# Let's import our dependencies\n",
    "import  argparse\n",
    "import gym"
   ]
  },
  {
   "cell_type": "code",
   "execution_count": 2,
   "metadata": {
    "collapsed": true
   },
   "outputs": [],
   "source": [
    "#Let's define a function to process our user input\n",
    "def build_arg_parser():\n",
    "    parser = argparse.ArgumentParser(description = 'Run an environment')\n",
    "    parser.add_argument('--input-env',dest = 'input_env',required = True , choices = ['cartpole','mountaincar','pendulum','lake','taxi'],help = 'specify the name of the environment')\n",
    "    return parser"
   ]
  },
  {
   "cell_type": "code",
   "execution_count": 3,
   "metadata": {},
   "outputs": [
    {
     "name": "stderr",
     "output_type": "stream",
     "text": [
      "usage: ipykernel_launcher.py [-h] --input-env\n",
      "                             {cartpole,mountaincar,pendulum,lake,taxi}\n",
      "ipykernel_launcher.py: error: the following arguments are required: --input-env\n"
     ]
    },
    {
     "ename": "SystemExit",
     "evalue": "2",
     "output_type": "error",
     "traceback": [
      "An exception has occurred, use %tb to see the full traceback.\n",
      "\u001b[1;31mSystemExit\u001b[0m\u001b[1;31m:\u001b[0m 2\n"
     ]
    },
    {
     "name": "stderr",
     "output_type": "stream",
     "text": [
      "C:\\Users\\Sarthak Srivastava\\Anaconda3\\lib\\site-packages\\IPython\\core\\interactiveshell.py:2889: UserWarning: To exit: use 'exit', 'quit', or Ctrl-D.\n",
      "  warn(\"To exit: use 'exit', 'quit', or Ctrl-D.\", stacklevel=1)\n"
     ]
    }
   ],
   "source": [
    "#Now define the main function to call the parser\n",
    "if __name__ == '__main__':\n",
    "    args = build_arg_parser().parse_args()\n",
    "    input_env = args.input_env\n",
    "    # create a name map as in openai gym package\n",
    "    name_map = {'cartpole': 'CartPole-v0','mountain-car':'Mountain-Car-v0','pendulum':'Pendulum-v0','taxi':'Taxi-v2','lake':'FrozenLake-v0'}\n",
    "    #Create environment and reset it\n",
    "    env = gym.make(name_map[input_env])\n",
    "    env.reset()\n",
    "    #iterate 1000 times \n",
    "    for _ in range(1000):\n",
    "        #render the environment\n",
    "        env.render()\n",
    "        #take random action\n",
    "        env.step(env.action_space.sample())"
   ]
  }
 ],
 "metadata": {
  "kernelspec": {
   "display_name": "Python 3",
   "language": "python",
   "name": "python3"
  },
  "language_info": {
   "codemirror_mode": {
    "name": "ipython",
    "version": 3
   },
   "file_extension": ".py",
   "mimetype": "text/x-python",
   "name": "python",
   "nbconvert_exporter": "python",
   "pygments_lexer": "ipython3",
   "version": "3.6.1"
  }
 },
 "nbformat": 4,
 "nbformat_minor": 2
}
